{
 "cells": [
  {
   "cell_type": "markdown",
   "id": "72464aec",
   "metadata": {},
   "source": [
    "# Case 2: Passenger satisfaction"
   ]
  },
  {
   "cell_type": "code",
   "execution_count": 1,
   "id": "0864e53f",
   "metadata": {
    "scrolled": true
   },
   "outputs": [],
   "source": [
    "import pandas as pd\n",
    "import numpy as np\n",
    "import seaborn as sns\n",
    "import matplotlib.pyplot as plt\n",
    "import plotly.graph_objects as go\n",
    "import plotly.express as px\n",
    "import streamlit as st"
   ]
  },
  {
   "cell_type": "code",
   "execution_count": 2,
   "id": "2b27c05d",
   "metadata": {},
   "outputs": [
    {
     "name": "stdout",
     "output_type": "stream",
     "text": [
      "Requirement already satisfied: kaggle in c:\\users\\charl\\anaconda3\\lib\\site-packages (1.5.16)\n",
      "Requirement already satisfied: six>=1.10 in c:\\users\\charl\\anaconda3\\lib\\site-packages (from kaggle) (1.16.0)\n",
      "Requirement already satisfied: certifi in c:\\users\\charl\\anaconda3\\lib\\site-packages (from kaggle) (2023.7.22)\n",
      "Requirement already satisfied: python-dateutil in c:\\users\\charl\\anaconda3\\lib\\site-packages (from kaggle) (2.8.2)\n",
      "Requirement already satisfied: requests in c:\\users\\charl\\anaconda3\\lib\\site-packages (from kaggle) (2.31.0)\n",
      "Requirement already satisfied: tqdm in c:\\users\\charl\\anaconda3\\lib\\site-packages (from kaggle) (4.65.0)\n",
      "Requirement already satisfied: python-slugify in c:\\users\\charl\\anaconda3\\lib\\site-packages (from kaggle) (5.0.2)\n",
      "Requirement already satisfied: urllib3 in c:\\users\\charl\\anaconda3\\lib\\site-packages (from kaggle) (1.26.16)\n",
      "Requirement already satisfied: bleach in c:\\users\\charl\\anaconda3\\lib\\site-packages (from kaggle) (4.1.0)\n",
      "Requirement already satisfied: packaging in c:\\users\\charl\\anaconda3\\lib\\site-packages (from bleach->kaggle) (23.0)\n",
      "Requirement already satisfied: webencodings in c:\\users\\charl\\anaconda3\\lib\\site-packages (from bleach->kaggle) (0.5.1)\n",
      "Requirement already satisfied: text-unidecode>=1.3 in c:\\users\\charl\\anaconda3\\lib\\site-packages (from python-slugify->kaggle) (1.3)\n",
      "Requirement already satisfied: charset-normalizer<4,>=2 in c:\\users\\charl\\anaconda3\\lib\\site-packages (from requests->kaggle) (2.0.4)\n",
      "Requirement already satisfied: idna<4,>=2.5 in c:\\users\\charl\\anaconda3\\lib\\site-packages (from requests->kaggle) (3.4)\n",
      "Requirement already satisfied: colorama in c:\\users\\charl\\anaconda3\\lib\\site-packages (from tqdm->kaggle) (0.4.6)\n",
      "Note: you may need to restart the kernel to use updated packages.\n"
     ]
    }
   ],
   "source": [
    "pip install kaggle"
   ]
  },
  {
   "cell_type": "code",
   "execution_count": 4,
   "id": "abfa2391",
   "metadata": {},
   "outputs": [],
   "source": [
    "import kaggle"
   ]
  },
  {
   "cell_type": "code",
   "execution_count": 5,
   "id": "f95604a4",
   "metadata": {},
   "outputs": [],
   "source": [
    "from kaggle.api.kaggle_api_extended import KaggleApi"
   ]
  },
  {
   "cell_type": "code",
   "execution_count": 6,
   "id": "f411a6e6",
   "metadata": {},
   "outputs": [],
   "source": [
    "api=KaggleApi()\n",
    "api.authenticate()"
   ]
  },
  {
   "cell_type": "code",
   "execution_count": null,
   "id": "7ab6ca01",
   "metadata": {},
   "outputs": [],
   "source": [
    "kaggle datasets download -d teejmahal20/airline-passenger-satisfaction"
   ]
  },
  {
   "cell_type": "code",
   "execution_count": null,
   "id": "868054f2",
   "metadata": {
    "scrolled": true
   },
   "outputs": [],
   "source": [
    "st.title(\"Passenger airline satisfaction\")"
   ]
  },
  {
   "cell_type": "markdown",
   "id": "5666c154",
   "metadata": {},
   "source": [
    "**Bronnen**\n",
    "\n",
    "https://stackoverflow.com/questions/68489063/plotly-how-to-make-group-and-stack-bar-subplots-in-one-figure"
   ]
  },
  {
   "cell_type": "code",
   "execution_count": null,
   "id": "7b857298",
   "metadata": {
    "scrolled": false
   },
   "outputs": [],
   "source": [
    "train = pd.read_csv(\"C:\\\\Users\\\\charl\\\\Downloads\\\\pax.csv\", index_col = 0)"
   ]
  },
  {
   "cell_type": "code",
   "execution_count": null,
   "id": "0fb57ea3",
   "metadata": {},
   "outputs": [],
   "source": [
    "DATAinfo=st.sidebar.selectbox(\"Select type of info\",(\"Head\",\"Info\",\"Describe\"))"
   ]
  },
  {
   "cell_type": "code",
   "execution_count": null,
   "id": "2318dca2",
   "metadata": {
    "scrolled": false
   },
   "outputs": [],
   "source": [
    "train.columns = train.columns.str.replace(' ', '_')\n",
    "train.info()"
   ]
  },
  {
   "cell_type": "code",
   "execution_count": null,
   "id": "fbd37758",
   "metadata": {},
   "outputs": [],
   "source": [
    "train.isna().sum()"
   ]
  },
  {
   "cell_type": "code",
   "execution_count": null,
   "id": "5de4c0d4",
   "metadata": {},
   "outputs": [],
   "source": [
    "train.describe()"
   ]
  },
  {
   "cell_type": "code",
   "execution_count": null,
   "id": "15abb10e",
   "metadata": {
    "scrolled": false
   },
   "outputs": [],
   "source": [
    "crosstabGender = pd.crosstab(train.Gender, train.satisfaction).reset_index()\n",
    "\n",
    "crossGender = []\n",
    "for x in crosstabGender.columns:\n",
    "     crossGender.append(go.Bar(name=str(x), x = crosstabGender.index, y = crosstabGender[x]))\n",
    "        \n",
    "print(crosstabGender)\n",
    "\n",
    "# fig = go.Figure(crossGender, layout = {\"barmode\": \"stack\"})\n",
    "# fig.show()"
   ]
  },
  {
   "cell_type": "markdown",
   "id": "382d93af",
   "metadata": {},
   "source": [
    "**functie die crosstabs maakt met een lege lijst en waardes > for loop met alle tabellen in een lijst > met de columnnamen de add trace toevoegen**"
   ]
  },
  {
   "cell_type": "code",
   "execution_count": null,
   "id": "989c848a",
   "metadata": {},
   "outputs": [],
   "source": [
    "def crossdata(EmptyList, Cross):\n",
    "    for x in Cross.columns:\n",
    "        EmptyList.append(go.Bar(name=str(x), x = Cross.index, y = Cross[x]))\n",
    "    return EmptyList"
   ]
  },
  {
   "cell_type": "code",
   "execution_count": null,
   "id": "80911777",
   "metadata": {},
   "outputs": [],
   "source": [
    "crosstabClass = pd.crosstab(train.Class, train.satisfaction).reset_index()\n",
    "crosstabClass\n",
    "\n",
    "# crossClass = []\n",
    "# crossdata(crossClass, crosstabClass)\n",
    "# fig = go.Figure(crossClass, layout = {\"barmode\": \"stack\"})\n",
    "# fig.show()"
   ]
  },
  {
   "cell_type": "code",
   "execution_count": null,
   "id": "c042d2dd",
   "metadata": {},
   "outputs": [],
   "source": [
    "fig = go.Figure()\n",
    "\n",
    "fig.add_trace(go.Bar(x = crosstabGender[\"Gender\"], \n",
    "                     y = crosstabGender[\"neutral or dissatisfied\"], \n",
    "                     offsetgroup = 0, \n",
    "                     name = \"neutral or dissatisfied\",\n",
    "                     marker_color = \"red\"))\n",
    "fig.add_trace(go.Bar(x = crosstabGender[\"Gender\"], \n",
    "                     y = crosstabGender[\"satisfied\"], \n",
    "                     offsetgroup = 0, \n",
    "                     name = \"satisfied\",\n",
    "                     base = crosstabGender[\"neutral or dissatisfied\"],\n",
    "                     marker_color = \"yellow\"))\n",
    "fig.add_trace(go.Bar(x = crosstabClass[\"Class\"], \n",
    "                     y = crosstabClass[\"neutral or dissatisfied\"], \n",
    "                     offsetgroup = 0,\n",
    "                     name = \"neutral or dissatisfied\",\n",
    "                     marker_color = \"red\"))\n",
    "fig.add_trace(go.Bar(x = crosstabClass[\"Class\"], \n",
    "                     y = crosstabClass[\"satisfied\"], \n",
    "                     offsetgroup = 0, \n",
    "                     name = \"satisfied\",\n",
    "                     base = crosstabClass[\"neutral or dissatisfied\"],\n",
    "                     marker_color = \"yellow\"))\n",
    "\n",
    "dropdown_buttons = [{'label':'ALL', \n",
    "                     'method':'update', \n",
    "                     'args': [{'visible':[True, True, True, True]},\n",
    "                     {'title':'All'}]},\n",
    "                    {'label':'Gender', \n",
    "                     'method':'update', \n",
    "                     'args': [{'visible':[True, True, False, False]},\n",
    "                     {'title':'Gender'}]},\n",
    "                   {'label':'Class', \n",
    "                    'method': 'update',\n",
    "                    'args':[{'visible':[False, False, True, True]},\n",
    "                     {'title': 'Class'}]}]\n",
    "fig.update_layout({'updatemenus':[{'active': 0 , 'buttons':dropdown_buttons}]})\n",
    "fig.show()"
   ]
  },
  {
   "cell_type": "code",
   "execution_count": null,
   "id": "a5c79f02",
   "metadata": {},
   "outputs": [],
   "source": [
    "sns.histplot(data = train, x = \"Customer_Type\")"
   ]
  },
  {
   "cell_type": "code",
   "execution_count": null,
   "id": "bf977a01",
   "metadata": {},
   "outputs": [],
   "source": [
    "fig = px.box(train,x=\"Age\", y=\"satisfaction\",color=\"satisfaction\",title=\"Age vs Satisfaction\")\n",
    "\n",
    "fig.show()"
   ]
  },
  {
   "cell_type": "code",
   "execution_count": null,
   "id": "5b35c371",
   "metadata": {},
   "outputs": [],
   "source": [
    "sns.histplot(data = train, x = \"Type_of_Travel\")"
   ]
  },
  {
   "cell_type": "code",
   "execution_count": null,
   "id": "0cf60088",
   "metadata": {},
   "outputs": [],
   "source": [
    "sns.histplot(data = train, x = \"satisfaction\")"
   ]
  },
  {
   "cell_type": "code",
   "execution_count": null,
   "id": "f2987681",
   "metadata": {},
   "outputs": [],
   "source": [
    "cross1 = pd.crosstab(train.satisfaction, train.Gender, margins = True)\n",
    "cross1"
   ]
  },
  {
   "cell_type": "code",
   "execution_count": null,
   "id": "d42adf68",
   "metadata": {},
   "outputs": [],
   "source": [
    "sns.boxplot(data = train, x = \"Flight_Distance\", y = \"satisfaction\")\n",
    "plt.show()"
   ]
  },
  {
   "cell_type": "code",
   "execution_count": null,
   "id": "0c54d0cb",
   "metadata": {},
   "outputs": [],
   "source": [
    "sns.stripplot(data = train, x = \"Departure_Delay_in_Minutes\", y = \"satisfaction\")\n",
    "plt.show()"
   ]
  },
  {
   "cell_type": "code",
   "execution_count": null,
   "id": "528ab8e5",
   "metadata": {},
   "outputs": [],
   "source": [
    "sns.stripplot(data = train, x = \"Arrival_Delay_in_Minutes\", y = \"satisfaction\")\n",
    "plt.show()"
   ]
  },
  {
   "cell_type": "code",
   "execution_count": null,
   "id": "4492a11e",
   "metadata": {},
   "outputs": [],
   "source": [
    "correlation = train.loc[:,  ~train.columns.isin(['id','Gender', 'Customer_Type', 'Age', 'Flight_Distance', 'Type_of_Travel',\n",
    "                                                 'Class', 'Departure_Delay_in_Minutes', 'Arrival_Delay_in_Minutes'])]\n",
    "corr1 = correlation.replace(to_replace = [\"neutral or dissatisfied\", \"satisfied\"], value = [0,1])\n",
    "corr1.head()"
   ]
  },
  {
   "cell_type": "code",
   "execution_count": null,
   "id": "65cc4980",
   "metadata": {},
   "outputs": [],
   "source": [
    "corrMatrix  = corr1.corr()\n",
    "sns.heatmap(corrMatrix[[\"satisfaction\"]], annot = True)"
   ]
  },
  {
   "cell_type": "code",
   "execution_count": null,
   "id": "de3dc88a",
   "metadata": {},
   "outputs": [],
   "source": []
  },
  {
   "cell_type": "code",
   "execution_count": null,
   "id": "cd9ffe12",
   "metadata": {},
   "outputs": [],
   "source": []
  },
  {
   "cell_type": "code",
   "execution_count": null,
   "id": "1e6e90b4",
   "metadata": {},
   "outputs": [],
   "source": []
  },
  {
   "cell_type": "code",
   "execution_count": null,
   "id": "512ff47c",
   "metadata": {},
   "outputs": [],
   "source": []
  }
 ],
 "metadata": {
  "kernelspec": {
   "display_name": "Python 3 (ipykernel)",
   "language": "python",
   "name": "python3"
  },
  "language_info": {
   "codemirror_mode": {
    "name": "ipython",
    "version": 3
   },
   "file_extension": ".py",
   "mimetype": "text/x-python",
   "name": "python",
   "nbconvert_exporter": "python",
   "pygments_lexer": "ipython3",
   "version": "3.11.4"
  }
 },
 "nbformat": 4,
 "nbformat_minor": 5
}
